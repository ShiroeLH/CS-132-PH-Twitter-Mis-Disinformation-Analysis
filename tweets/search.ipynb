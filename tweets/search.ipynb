{
 "cells": [
  {
   "cell_type": "code",
   "execution_count": 1,
   "metadata": {},
   "outputs": [],
   "source": [
    "import snscrape.modules.twitter as sntwitter\n",
    "import pandas as pd\n",
    "from datetime import datetime\n",
    "import openpyxl"
   ]
  },
  {
   "cell_type": "code",
   "execution_count": 2,
   "metadata": {},
   "outputs": [],
   "source": [
    "# Setting variables to be used below\n",
    "maxTweets = 500\n",
    "\n",
    "# Creating list to append tweet data to\n",
    "tweets_list2 = []\n",
    "category='REDT'\n",
    "group='32'\n",
    "collector='Rey Christian Delos Reyes'\n",
    "topic='Red-tagging of activists during the Duterte Administration'\n",
    "keywords='massacre martial law marcos until:2021-12-31 since:2016-01-01'"
   ]
  },
  {
   "cell_type": "code",
   "execution_count": 3,
   "metadata": {},
   "outputs": [],
   "source": [
    "# Open the dataset workbook\n",
    "workbook = openpyxl.load_workbook(filename = 'datasets/Dataset - Group 32 datasheet.xlsx')\n",
    "worksheet = workbook['Data']\n",
    "\n",
    "# Collect status IDs\n",
    "statuses = []\n",
    "for iterator in range(3,worksheet.max_row):\n",
    "    statuses.append(worksheet.cell(row=iterator,column=3).value)\n",
    "status_ids = [int(status.split('/')[-1]) for status in statuses]\n",
    "\n",
    "sntwitter.TwitterSearchScraper(statuses).get_items()"
   ]
  },
  {
   "cell_type": "code",
   "execution_count": 6,
   "metadata": {},
   "outputs": [
    {
     "ename": "AttributeError",
     "evalue": "'list' object has no attribute 'strip'",
     "output_type": "error",
     "traceback": [
      "\u001b[1;31m---------------------------------------------------------------------------\u001b[0m",
      "\u001b[1;31mAttributeError\u001b[0m                            Traceback (most recent call last)",
      "\u001b[1;32mC:\\Users\\REYCHR~1\\AppData\\Local\\Temp/ipykernel_32136/1840166399.py\u001b[0m in \u001b[0;36m<module>\u001b[1;34m\u001b[0m\n\u001b[0;32m      1\u001b[0m \u001b[1;31m# Using TwitterSearchScraper to scrape data and append tweets to list\u001b[0m\u001b[1;33m\u001b[0m\u001b[1;33m\u001b[0m\u001b[0m\n\u001b[1;32m----> 2\u001b[1;33m \u001b[1;32mfor\u001b[0m \u001b[0mi\u001b[0m\u001b[1;33m,\u001b[0m\u001b[0mtweet\u001b[0m \u001b[1;32min\u001b[0m \u001b[0menumerate\u001b[0m\u001b[1;33m(\u001b[0m\u001b[0msntwitter\u001b[0m\u001b[1;33m.\u001b[0m\u001b[0mTwitterSearchScraper\u001b[0m\u001b[1;33m(\u001b[0m\u001b[0mstatuses\u001b[0m\u001b[1;33m)\u001b[0m\u001b[1;33m.\u001b[0m\u001b[0mget_items\u001b[0m\u001b[1;33m(\u001b[0m\u001b[1;33m)\u001b[0m\u001b[1;33m)\u001b[0m\u001b[1;33m:\u001b[0m\u001b[1;33m\u001b[0m\u001b[1;33m\u001b[0m\u001b[0m\n\u001b[0m\u001b[0;32m      3\u001b[0m     \u001b[1;31m# print(tweet, tweet.user.displayname, tweet.user.rawDescription, tweet.user.created, tweet.user.followersCount, tweet.user.friendsCount, tweet.user.location, tweet.viewCount, tweet.user.favouritesCount, tweet.quoteCount)\u001b[0m\u001b[1;33m\u001b[0m\u001b[1;33m\u001b[0m\u001b[0m\n\u001b[0;32m      4\u001b[0m     \u001b[1;32mif\u001b[0m \u001b[0mi\u001b[0m\u001b[1;33m>\u001b[0m\u001b[0mmaxTweets\u001b[0m\u001b[1;33m:\u001b[0m\u001b[1;33m\u001b[0m\u001b[1;33m\u001b[0m\u001b[0m\n\u001b[0;32m      5\u001b[0m         \u001b[1;32mbreak\u001b[0m\u001b[1;33m\u001b[0m\u001b[1;33m\u001b[0m\u001b[0m\n",
      "\u001b[1;32m~\\AppData\\Local\\Packages\\PythonSoftwareFoundation.Python.3.9_qbz5n2kfra8p0\\LocalCache\\local-packages\\Python39\\site-packages\\snscrape\\modules\\twitter.py\u001b[0m in \u001b[0;36m__init__\u001b[1;34m(self, query, cursor, mode, top, maxEmptyPages, **kwargs)\u001b[0m\n\u001b[0;32m   1582\u001b[0m \u001b[1;33m\u001b[0m\u001b[0m\n\u001b[0;32m   1583\u001b[0m         \u001b[1;32mdef\u001b[0m \u001b[0m__init__\u001b[0m\u001b[1;33m(\u001b[0m\u001b[0mself\u001b[0m\u001b[1;33m,\u001b[0m \u001b[0mquery\u001b[0m\u001b[1;33m,\u001b[0m \u001b[1;33m*\u001b[0m\u001b[1;33m,\u001b[0m \u001b[0mcursor\u001b[0m \u001b[1;33m=\u001b[0m \u001b[1;32mNone\u001b[0m\u001b[1;33m,\u001b[0m \u001b[0mmode\u001b[0m \u001b[1;33m=\u001b[0m \u001b[0mTwitterSearchScraperMode\u001b[0m\u001b[1;33m.\u001b[0m\u001b[0mLIVE\u001b[0m\u001b[1;33m,\u001b[0m \u001b[0mtop\u001b[0m \u001b[1;33m=\u001b[0m \u001b[1;32mNone\u001b[0m\u001b[1;33m,\u001b[0m \u001b[0mmaxEmptyPages\u001b[0m \u001b[1;33m=\u001b[0m \u001b[1;36m20\u001b[0m\u001b[1;33m,\u001b[0m \u001b[1;33m**\u001b[0m\u001b[0mkwargs\u001b[0m\u001b[1;33m)\u001b[0m\u001b[1;33m:\u001b[0m\u001b[1;33m\u001b[0m\u001b[1;33m\u001b[0m\u001b[0m\n\u001b[1;32m-> 1584\u001b[1;33m                 \u001b[1;32mif\u001b[0m \u001b[1;32mnot\u001b[0m \u001b[0mquery\u001b[0m\u001b[1;33m.\u001b[0m\u001b[0mstrip\u001b[0m\u001b[1;33m(\u001b[0m\u001b[1;33m)\u001b[0m\u001b[1;33m:\u001b[0m\u001b[1;33m\u001b[0m\u001b[1;33m\u001b[0m\u001b[0m\n\u001b[0m\u001b[0;32m   1585\u001b[0m                         \u001b[1;32mraise\u001b[0m \u001b[0mValueError\u001b[0m\u001b[1;33m(\u001b[0m\u001b[1;34m'empty query'\u001b[0m\u001b[1;33m)\u001b[0m\u001b[1;33m\u001b[0m\u001b[1;33m\u001b[0m\u001b[0m\n\u001b[0;32m   1586\u001b[0m                 \u001b[1;32mif\u001b[0m \u001b[0mmode\u001b[0m \u001b[1;32mnot\u001b[0m \u001b[1;32min\u001b[0m \u001b[0mtuple\u001b[0m\u001b[1;33m(\u001b[0m\u001b[0mTwitterSearchScraperMode\u001b[0m\u001b[1;33m)\u001b[0m\u001b[1;33m:\u001b[0m\u001b[1;33m\u001b[0m\u001b[1;33m\u001b[0m\u001b[0m\n",
      "\u001b[1;31mAttributeError\u001b[0m: 'list' object has no attribute 'strip'"
     ]
    }
   ],
   "source": [
    "# Using TwitterSearchScraper to scrape data and append tweets to list\n",
    "for i,tweet in enumerate(sntwitter.TwitterSearchScraper(statuses).get_items()):\n",
    "    # print(tweet, tweet.user.displayname, tweet.user.rawDescription, tweet.user.created, tweet.user.followersCount, tweet.user.friendsCount, tweet.user.location, tweet.viewCount, tweet.user.favouritesCount, tweet.quoteCount)\n",
    "    if i>maxTweets:\n",
    "        break\n",
    "    now = datetime.now()\n",
    "    tweets_list2.append([now, tweet, group, collector, category, topic, keywords, f\"@{tweet.user.username}\", tweet.user.displayname, tweet.user.rawDescription, \"Verified\" if tweet.user.verified else \"Anonymous\", tweet.user.created, tweet.user.friendsCount, tweet.user.followersCount, tweet.user.location, tweet.rawContent, '-', 'text', tweet.date, '-', '-', tweet.likeCount, tweet.replyCount, tweet.retweetCount, tweet.quoteCount, tweet.viewCount])\n",
    "    # tweets_list2.append([tweet.date, tweet.id, tweet.rawContent, tweet.user.username, tweet])"
   ]
  },
  {
   "cell_type": "code",
   "execution_count": null,
   "metadata": {},
   "outputs": [
    {
     "data": {
      "text/plain": [
       "0      Manila City, National Capital \n",
       "1                           Cebu City\n",
       "2                                    \n",
       "3           Hilongos, Eastern Visayas\n",
       "4         Republic of the Philippines\n",
       "                    ...              \n",
       "409                                  \n",
       "410                                  \n",
       "411                          Pampanga\n",
       "412                            utopia\n",
       "413                                  \n",
       "Name: Location, Length: 414, dtype: object"
      ]
     },
     "execution_count": 14,
     "metadata": {},
     "output_type": "execute_result"
    }
   ],
   "source": [
    "# Creating a dataframe from the tweets list above\n",
    "tweets_df2 = pd.DataFrame(tweets_list2, columns=[\"Timestamp\", \"Tweet URL\", \"Group\", \"Collector\", \"Category\", \"Topic\", \"Keywords\", \"Account handle\", \"Account name\", \"Account bio\", \"Account type\", \"Joined\", \"Following\", \"Followers\", \"Location\", \"Tweet\", \"Tweet Translated\", \"Tweet Type\", \"Date posted\", \"Screenshot\", \"Content type\", \"Likes\", \"Replies\", \"Retweets\", \"Quote Tweets\", \"Views\"])\n",
    "\n",
    "# Export dataframe into a CSV\n",
    "tweets_df2.to_csv('text-query-tweets.csv', sep=',', index=False)\n",
    "\n",
    "# Display first 5 entries from dataframe\n",
    "tweets_df2['Location']"
   ]
  }
 ],
 "metadata": {
  "kernelspec": {
   "display_name": "Python 3",
   "language": "python",
   "name": "python3"
  },
  "language_info": {
   "codemirror_mode": {
    "name": "ipython",
    "version": 3
   },
   "file_extension": ".py",
   "mimetype": "text/x-python",
   "name": "python",
   "nbconvert_exporter": "python",
   "pygments_lexer": "ipython3",
   "version": "3.9.13"
  },
  "orig_nbformat": 4,
  "vscode": {
   "interpreter": {
    "hash": "fe7fb43d0833802e20cd4a44ef0f7618cacbdd642fca0482e0fefb1a1aaf674b"
   }
  }
 },
 "nbformat": 4,
 "nbformat_minor": 2
}
